{
 "cells": [
  {
   "cell_type": "markdown",
   "id": "7326be15",
   "metadata": {},
   "source": [
    "# Data Classification"
   ]
  },
  {
   "cell_type": "markdown",
   "id": "6352d136",
   "metadata": {},
   "source": [
    "## Imports"
   ]
  },
  {
   "cell_type": "code",
   "execution_count": 1,
   "id": "deef5129",
   "metadata": {},
   "outputs": [],
   "source": [
    "# importing libraries\n",
    "import numpy as np\n",
    "import pandas as pd\n",
    "import sklearn as sk\n",
    "import time\n",
    "from sklearn import metrics, tree, neighbors\n",
    "from sklearn.datasets import make_classification\n",
    "from sklearn.model_selection import KFold, cross_val_score\n",
    "from sklearn.linear_model import LogisticRegression\n",
    "from sklearn.naive_bayes import GaussianNB\n",
    "from sklearn.ensemble import RandomForestClassifier, AdaBoostClassifier"
   ]
  },
  {
   "cell_type": "markdown",
   "id": "9bce6032",
   "metadata": {},
   "source": [
    "## Reading dataset"
   ]
  },
  {
   "cell_type": "code",
   "execution_count": 2,
   "id": "57b59529",
   "metadata": {},
   "outputs": [],
   "source": [
    "# read data from file\n",
    "dataset_url = \"https://archive.ics.uci.edu/ml/machine-learning-databases/magic/magic04.data\"\n",
    "headers = ['fLength', 'fWidth', 'fSize', 'fConc', 'fConc1', 'fAsym', 'fM3Long', 'fM3Trans', 'fAlpha', 'fDist', 'Class']\n",
    "dataset = pd.read_csv(dataset_url, sep=',', names=headers)\n",
    "# display(dataset)"
   ]
  },
  {
   "cell_type": "markdown",
   "id": "c7e51da0",
   "metadata": {},
   "source": [
    "## Data Balancing"
   ]
  },
  {
   "cell_type": "code",
   "execution_count": 3,
   "id": "700da41d",
   "metadata": {},
   "outputs": [],
   "source": [
    "# Data Balancing\n",
    "h_samples_balanced = dataset[dataset['Class'] == 'h']\n",
    "\n",
    "# select 6688 random samples with class = g\n",
    "g_class_samples = dataset[dataset['Class'] == 'g']\n",
    "g_samples_balanced = g_class_samples.sample(n = 6688)\n",
    "\n",
    "# display(g_samples)\n",
    "# display(h_samples)"
   ]
  },
  {
   "cell_type": "markdown",
   "id": "2356d5b9",
   "metadata": {},
   "source": [
    "## Data Split"
   ]
  },
  {
   "cell_type": "code",
   "execution_count": 4,
   "id": "6718763b",
   "metadata": {
    "scrolled": true
   },
   "outputs": [],
   "source": [
    "# Data Split\n",
    "# split the g class samples to 70% and 30% for training & testing respectively \n",
    "g_70_percent = g_samples_balanced.sample(frac = 0.7)\n",
    "g_30_percent = g_samples_balanced.drop(g_70_percent.index)\n",
    "\n",
    "# split the h class samples to 70% and 30% for training & testing respectively \n",
    "h_70_percent = h_samples_balanced.sample(frac = 0.7)\n",
    "h_30_percent = h_samples_balanced.drop(h_70_percent.index)\n",
    "\n",
    "# concatenating the 70% of g-class and h-class to form the training set\n",
    "training_set = pd.concat([g_70_percent, h_70_percent], axis=0, ignore_index=True)\n",
    "\n",
    "# concatenating the 30% of g-class and h-class to form the testing set\n",
    "testing_set = pd.concat([g_30_percent, h_30_percent], axis=0, ignore_index=True)\n",
    "\n",
    "# display(training_set)\n",
    "# display(testing_set)\n",
    "\n",
    "training_data = training_set.iloc[:,:-1]\n",
    "training_class = training_set.iloc[:,-1]\n",
    "# display(training_data)\n",
    "# display(training_class)\n",
    "\n",
    "testing_data = testing_set.iloc[:,:-1]\n",
    "testing_class = testing_set.iloc[:,-1]\n",
    "# display(testing_data)\n",
    "# display(testing_class)"
   ]
  },
  {
   "cell_type": "markdown",
   "id": "1eea69a6",
   "metadata": {},
   "source": [
    "## Classification"
   ]
  },
  {
   "cell_type": "markdown",
   "id": "3cb7106f",
   "metadata": {},
   "source": [
    "### >> Confusion matrix calculation"
   ]
  },
  {
   "cell_type": "code",
   "execution_count": 5,
   "id": "69f7d76d",
   "metadata": {},
   "outputs": [],
   "source": [
    "# 'g' >> positive ,, 'h' >> negative\n",
    "def conf_matrix_calculations(actual, predicted):\n",
    "    TP = TN = FP = FN = 0\n",
    "    training_dataset_size = 4012\n",
    "    for i in range (training_dataset_size):\n",
    "        if actual[i] == 'g' and predicted[i] == 'g':\n",
    "            TP += 1\n",
    "        elif actual[i] == 'g' and predicted[i] == 'h':\n",
    "            FN += 1\n",
    "        elif actual[i] == 'h' and predicted[i] == 'h':\n",
    "            TN += 1\n",
    "        elif actual[i] == 'h' and predicted[i] == 'g':\n",
    "            FP += 1\n",
    "    print('--- Confusion Matrix ---')\n",
    "    print('TP: ', TP, '\\tFP: ', FP)\n",
    "    print('FN: ', FN, '\\tTN: ', TN)\n",
    "    print('Accuracy = ', accuracy(TP, FP, FN, TN))\n",
    "    p = precision(TP, FP)\n",
    "    print('Precision = ', p)\n",
    "    r = recall(TP, FN)\n",
    "    print('Recall = ', r)\n",
    "    print('F-score = ', f_score(p, r))\n",
    "    "
   ]
  },
  {
   "cell_type": "code",
   "execution_count": 6,
   "id": "43562509",
   "metadata": {},
   "outputs": [],
   "source": [
    "def accuracy(TP, FP, FN, TN):\n",
    "    return (TP + TN) / (TP + FP + FN + TN)"
   ]
  },
  {
   "cell_type": "code",
   "execution_count": 7,
   "id": "3dfc6395",
   "metadata": {},
   "outputs": [],
   "source": [
    "def precision(TP, FP):\n",
    "    return (TP) / (TP + FP)"
   ]
  },
  {
   "cell_type": "code",
   "execution_count": 8,
   "id": "681a0165",
   "metadata": {},
   "outputs": [],
   "source": [
    "def recall(TP, FN):\n",
    "    return (TP) / (TP + FN)"
   ]
  },
  {
   "cell_type": "code",
   "execution_count": 9,
   "id": "e085f820",
   "metadata": {},
   "outputs": [],
   "source": [
    "def f_score(p, r):\n",
    "    return (2 * p * r) / (p + r)"
   ]
  },
  {
   "cell_type": "markdown",
   "id": "ca8e4721",
   "metadata": {},
   "source": [
    "### >> Cross Validation"
   ]
  },
  {
   "cell_type": "code",
   "execution_count": 10,
   "id": "299fded8",
   "metadata": {},
   "outputs": [],
   "source": [
    "def get_max_accuracy(classifier_type, p_min, p_max, step, dataset_data, dataset_class):\n",
    "    max_accuracy = 0\n",
    "    p_max_acc = p_min\n",
    "    for i in range (p_min, p_max + 1, step):\n",
    "        if classifier_type == 'knn':\n",
    "            classifier = neighbors.KNeighborsClassifier(i)\n",
    "        elif classifier_type == 'ada':\n",
    "            classifier = AdaBoostClassifier(n_estimators=i)\n",
    "        elif classifier_type == 'rf':\n",
    "            classifier = RandomForestClassifier(n_estimators=i)\n",
    "        accuracy = cross_validation(classifier, dataset_data, dataset_class)\n",
    "        if max_accuracy < accuracy:\n",
    "            max_accuracy = accuracy\n",
    "            p_max_acc = i\n",
    "            print('updated>> i= ', i, ', accuracy= ', accuracy)\n",
    "        else:\n",
    "            print('Not updated>> i= ', i, ', accuracy= ', accuracy)\n",
    "    return p_max_acc"
   ]
  },
  {
   "cell_type": "code",
   "execution_count": 11,
   "id": "a59f61d7",
   "metadata": {},
   "outputs": [],
   "source": [
    "def cross_validation(classifier, dataset_data, dataset_class):\n",
    "    cv = KFold(n_splits=10, random_state=1, shuffle=True)\n",
    "    scores = cross_val_score(classifier, dataset_data, dataset_class, scoring='accuracy', cv=cv, n_jobs=-1)\n",
    "    return np.mean(scores)"
   ]
  },
  {
   "cell_type": "markdown",
   "id": "2b72dc55",
   "metadata": {},
   "source": [
    "### >> Decision Trees"
   ]
  },
  {
   "cell_type": "code",
   "execution_count": 12,
   "id": "72f7a6a5",
   "metadata": {},
   "outputs": [
    {
     "name": "stdout",
     "output_type": "stream",
     "text": [
      "Decision Tree Classifier\n",
      "--- Confusion Matrix ---\n",
      "TP:  1580 \tFP:  432\n",
      "FN:  426 \tTN:  1574\n",
      "Accuracy =  0.7861415752741775\n",
      "Precision =  0.7852882703777336\n",
      "Recall =  0.7876370887337986\n",
      "F-score =  0.786460925833748\n"
     ]
    }
   ],
   "source": [
    "dt_classifier = tree.DecisionTreeClassifier()\n",
    "dt_classifier = dt_classifier.fit(training_data, training_class)\n",
    "dt_predicted_class = dt_classifier.predict(testing_data)\n",
    "\n",
    "print('Decision Tree Classifier')\n",
    "conf_matrix_calculations(testing_class, dt_predicted_class)"
   ]
  },
  {
   "cell_type": "markdown",
   "id": "3ab79cfb",
   "metadata": {},
   "source": [
    "### >> Naive Bayes"
   ]
  },
  {
   "cell_type": "code",
   "execution_count": 13,
   "id": "ae85a76c",
   "metadata": {},
   "outputs": [
    {
     "name": "stdout",
     "output_type": "stream",
     "text": [
      "Naive Bayes Classifier\n",
      "--- Confusion Matrix ---\n",
      "TP:  1798 \tFP:  1222\n",
      "FN:  208 \tTN:  784\n",
      "Accuracy =  0.6435692921236291\n",
      "Precision =  0.595364238410596\n",
      "Recall =  0.8963110667996012\n",
      "F-score =  0.7154795065658576\n"
     ]
    }
   ],
   "source": [
    "nb_classifier = GaussianNB()\n",
    "nb_classifier = nb_classifier.fit(training_data, training_class)\n",
    "nb_predicted_class = nb_classifier.predict(testing_data)\n",
    "\n",
    "print('Naive Bayes Classifier')\n",
    "conf_matrix_calculations(testing_class, nb_predicted_class)\n"
   ]
  },
  {
   "cell_type": "markdown",
   "id": "d91416dd",
   "metadata": {},
   "source": [
    "### >> AdaBoost"
   ]
  },
  {
   "cell_type": "code",
   "execution_count": 14,
   "id": "3a0b8397",
   "metadata": {},
   "outputs": [
    {
     "name": "stdout",
     "output_type": "stream",
     "text": [
      "AdaBoost Classifier\n",
      "updated>> i=  95 , accuracy=  0.8159985040454625\n",
      "Not updated>> i=  97 , accuracy=  0.8157844867690118\n",
      "updated>> i=  99 , accuracy=  0.8167459112096251\n",
      "Not updated>> i=  101 , accuracy=  0.8162122932800628\n",
      "Not updated>> i=  103 , accuracy=  0.8159990741500881\n",
      "Not updated>> i=  105 , accuracy=  0.8162121792591377\n",
      "Not updated>> i=  107 , accuracy=  0.8166396437074133\n",
      "Not updated>> i=  109 , accuracy=  0.8159986180663875\n",
      "Cross Validation: 103.225515127182 seconds\n",
      "Used n-estimators value:  99\n",
      "Classification: 3.098869800567627 seconds\n",
      "--- Confusion Matrix ---\n",
      "TP:  1663 \tFP:  383\n",
      "FN:  343 \tTN:  1623\n",
      "Accuracy =  0.8190428713858424\n",
      "Precision =  0.8128054740957967\n",
      "Recall =  0.82901296111665\n",
      "F-score =  0.8208292201382034\n"
     ]
    }
   ],
   "source": [
    "print('AdaBoost Classifier')\n",
    "ada_p_min = 95\n",
    "ada_p_max = 110\n",
    "ada_step = 2\n",
    "start_time = time.time()\n",
    "ada_parameter = get_max_accuracy('ada',ada_p_min, ada_p_max, ada_step, training_data, training_class)\n",
    "print(\"Cross Validation: %s seconds\"  % (time.time() - start_time))\n",
    "print('Used n-estimators value: ', ada_parameter)\n",
    "start_time = time.time()\n",
    "ada_classifier = AdaBoostClassifier(n_estimators=ada_parameter)\n",
    "ada_classifier = ada_classifier.fit(training_data, training_class)\n",
    "ada_predicted_class = ada_classifier.predict(testing_data)\n",
    "print(\"Classification: %s seconds\"  % (time.time() - start_time))\n",
    "\n",
    "conf_matrix_calculations(testing_class, ada_predicted_class)\n"
   ]
  },
  {
   "cell_type": "markdown",
   "id": "4c78de9e",
   "metadata": {},
   "source": [
    "### >> K-Nearest Neighbors (K-NN)"
   ]
  },
  {
   "cell_type": "code",
   "execution_count": 15,
   "id": "bd51d097",
   "metadata": {},
   "outputs": [
    {
     "name": "stdout",
     "output_type": "stream",
     "text": [
      "K-Nearest Neighbors Classifier\n",
      "updated>> i=  5 , accuracy=  0.7664454660719336\n",
      "updated>> i=  7 , accuracy=  0.7674068905125468\n",
      "updated>> i=  9 , accuracy=  0.7709313913289367\n",
      "Not updated>> i=  11 , accuracy=  0.7699692827627727\n",
      "Not updated>> i=  13 , accuracy=  0.7706109925293491\n",
      "Not updated>> i=  15 , accuracy=  0.7674074606171725\n",
      "Cross Validation: 4.404083490371704 seconds\n",
      "Used n-neighbors value:  9\n",
      "Classification: 0.5998930931091309 seconds\n",
      "--- Confusion Matrix ---\n",
      "TP:  1708 \tFP:  640\n",
      "FN:  298 \tTN:  1366\n",
      "Accuracy =  0.7662013958125623\n",
      "Precision =  0.727427597955707\n",
      "Recall =  0.8514456630109671\n",
      "F-score =  0.7845659163987138\n"
     ]
    }
   ],
   "source": [
    "print('K-Nearest Neighbors Classifier')\n",
    "knn_p_min = 5\n",
    "knn_p_max = 15\n",
    "knn_step = 2\n",
    "start_time = time.time()\n",
    "knn_parameter = get_max_accuracy('knn', knn_p_min, knn_p_max, knn_step, training_data, training_class)\n",
    "print(\"Cross Validation: %s seconds\"  % (time.time() - start_time))\n",
    "print('Used n-neighbors value: ', knn_parameter)\n",
    "start_time = time.time()\n",
    "knn_classifier = neighbors.KNeighborsClassifier(n_neighbors=knn_parameter)\n",
    "knn_classifier = knn_classifier.fit(training_data, training_class)\n",
    "knn_predicted_class = knn_classifier.predict(testing_data)\n",
    "print(\"Classification: %s seconds\"  % (time.time() - start_time))\n",
    "\n",
    "conf_matrix_calculations(testing_class, knn_predicted_class)\n"
   ]
  },
  {
   "cell_type": "markdown",
   "id": "1958f75e",
   "metadata": {},
   "source": [
    "### >> Random Forsets"
   ]
  },
  {
   "cell_type": "code",
   "execution_count": 16,
   "id": "f8723af2",
   "metadata": {},
   "outputs": [
    {
     "name": "stdout",
     "output_type": "stream",
     "text": [
      "Random Forests Classifier\n",
      "updated>> i=  50 , accuracy=  0.8530556467722956\n",
      "Not updated>> i=  55 , accuracy=  0.8509198068029444\n",
      "updated>> i=  60 , accuracy=  0.8533753614463325\n",
      "Not updated>> i=  65 , accuracy=  0.8523084676499831\n",
      "updated>> i=  70 , accuracy=  0.8539084092712695\n",
      "Not updated>> i=  75 , accuracy=  0.853374677320782\n",
      "updated>> i=  80 , accuracy=  0.8547623119794945\n",
      "Not updated>> i=  85 , accuracy=  0.851773139406544\n",
      "Not updated>> i=  90 , accuracy=  0.8545508031633965\n",
      "Not updated>> i=  95 , accuracy=  0.8526287524286456\n",
      "Not updated>> i=  100 , accuracy=  0.8524150772149705\n",
      "Cross Validation: 100.908607006073 seconds\n",
      "Used n-estimators value:  80\n",
      "Classification: 2.6469428539276123 seconds\n",
      "--- Confusion Matrix ---\n",
      "TP:  1787 \tFP:  350\n",
      "FN:  219 \tTN:  1656\n",
      "Accuracy =  0.8581754735792622\n",
      "Precision =  0.8362189985961629\n",
      "Recall =  0.890827517447657\n",
      "F-score =  0.862659908279025\n"
     ]
    }
   ],
   "source": [
    "print('Random Forests Classifier')\n",
    "rf_p_min = 50\n",
    "rf_p_max = 100\n",
    "rf_step = 5\n",
    "start_time = time.time()\n",
    "rf_parameter = get_max_accuracy('rf', rf_p_min, rf_p_max, rf_step, training_data, training_class)\n",
    "print(\"Cross Validation: %s seconds\"  % (time.time() - start_time))\n",
    "print('Used n-estimators value: ', rf_parameter)\n",
    "start_time = time.time()\n",
    "rf_classifier = RandomForestClassifier(n_estimators=rf_parameter)\n",
    "rf_classifier = rf_classifier.fit(training_data, training_class)\n",
    "rf_predicted_class = rf_classifier.predict(testing_data)\n",
    "print(\"Classification: %s seconds\"  % (time.time() - start_time))\n",
    "\n",
    "conf_matrix_calculations(testing_class, rf_predicted_class)"
   ]
  }
 ],
 "metadata": {
  "kernelspec": {
   "display_name": "Python 3 (ipykernel)",
   "language": "python",
   "name": "python3"
  },
  "language_info": {
   "codemirror_mode": {
    "name": "ipython",
    "version": 3
   },
   "file_extension": ".py",
   "mimetype": "text/x-python",
   "name": "python",
   "nbconvert_exporter": "python",
   "pygments_lexer": "ipython3",
   "version": "3.9.7"
  }
 },
 "nbformat": 4,
 "nbformat_minor": 5
}
