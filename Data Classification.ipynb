{
 "cells": [
  {
   "cell_type": "markdown",
   "id": "7326be15",
   "metadata": {},
   "source": [
    "# Data Classification"
   ]
  },
  {
   "cell_type": "markdown",
   "id": "6352d136",
   "metadata": {},
   "source": [
    "## Imports"
   ]
  },
  {
   "cell_type": "code",
   "execution_count": 1,
   "id": "deef5129",
   "metadata": {},
   "outputs": [],
   "source": [
    "# importing libraries\n",
    "import numpy as np\n",
    "import pandas as pd\n",
    "import sklearn as sk\n",
    "import time\n",
    "from sklearn import metrics, tree, neighbors\n",
    "from sklearn.datasets import make_classification\n",
    "from sklearn.model_selection import KFold, cross_val_score\n",
    "from sklearn.linear_model import LogisticRegression\n",
    "from sklearn.naive_bayes import GaussianNB\n",
    "from sklearn.ensemble import RandomForestClassifier, AdaBoostClassifier"
   ]
  },
  {
   "cell_type": "markdown",
   "id": "9bce6032",
   "metadata": {},
   "source": [
    "## Reading dataset"
   ]
  },
  {
   "cell_type": "code",
   "execution_count": 2,
   "id": "57b59529",
   "metadata": {},
   "outputs": [],
   "source": [
    "# read data from file\n",
    "dataset_url = \"https://archive.ics.uci.edu/ml/machine-learning-databases/magic/magic04.data\"\n",
    "headers = ['fLength', 'fWidth', 'fSize', 'fConc', 'fConc1', 'fAsym', 'fM3Long', 'fM3Trans', 'fAlpha', 'fDist', 'Class']\n",
    "dataset = pd.read_csv(dataset_url, sep=',', names=headers)\n",
    "# display(dataset)"
   ]
  },
  {
   "cell_type": "markdown",
   "id": "c7e51da0",
   "metadata": {},
   "source": [
    "## Data Balancing"
   ]
  },
  {
   "cell_type": "code",
   "execution_count": 3,
   "id": "700da41d",
   "metadata": {},
   "outputs": [],
   "source": [
    "# Data Balancing\n",
    "h_samples_balanced = dataset[dataset['Class'] == 'h']\n",
    "\n",
    "# select 6688 random samples with class = g\n",
    "g_class_samples = dataset[dataset['Class'] == 'g']\n",
    "g_samples_balanced = g_class_samples.sample(n = 6688)\n",
    "\n",
    "# display(g_samples)\n",
    "# display(h_samples)"
   ]
  },
  {
   "cell_type": "markdown",
   "id": "2356d5b9",
   "metadata": {},
   "source": [
    "## Data Split"
   ]
  },
  {
   "cell_type": "code",
   "execution_count": 4,
   "id": "6718763b",
   "metadata": {
    "scrolled": true
   },
   "outputs": [],
   "source": [
    "# Data Split\n",
    "# split the g class samples to 70% and 30% for training & testing respectively \n",
    "g_70_percent = g_samples_balanced.sample(frac = 0.7)\n",
    "g_30_percent = g_samples_balanced.drop(g_70_percent.index)\n",
    "\n",
    "# split the h class samples to 70% and 30% for training & testing respectively \n",
    "h_70_percent = h_samples_balanced.sample(frac = 0.7)\n",
    "h_30_percent = h_samples_balanced.drop(h_70_percent.index)\n",
    "\n",
    "# concatenating the 70% of g-class and h-class to form the training set\n",
    "training_set = pd.concat([g_70_percent, h_70_percent], axis=0, ignore_index=True)\n",
    "\n",
    "# concatenating the 30% of g-class and h-class to form the testing set\n",
    "testing_set = pd.concat([g_30_percent, h_30_percent], axis=0, ignore_index=True)\n",
    "\n",
    "# display(training_set)\n",
    "# display(testing_set)\n",
    "\n",
    "training_data = training_set.iloc[:,:-1]\n",
    "training_class = training_set.iloc[:,-1]\n",
    "# display(training_data)\n",
    "# display(training_class)\n",
    "\n",
    "testing_data = testing_set.iloc[:,:-1]\n",
    "testing_class = testing_set.iloc[:,-1]\n",
    "# display(testing_data)\n",
    "# display(testing_class)"
   ]
  },
  {
   "cell_type": "markdown",
   "id": "1eea69a6",
   "metadata": {},
   "source": [
    "## Classification"
   ]
  },
  {
   "cell_type": "markdown",
   "id": "3cb7106f",
   "metadata": {},
   "source": [
    "### >> Confusion matrix calculation"
   ]
  },
  {
   "cell_type": "code",
   "execution_count": 5,
   "id": "69f7d76d",
   "metadata": {},
   "outputs": [],
   "source": [
    "# 'g' >> positive ,, 'h' >> negative\n",
    "def conf_matrix_calculations(actual, predicted):\n",
    "    TP = TN = FP = FN = 0\n",
    "    training_dataset_size = 4012\n",
    "    for i in range (training_dataset_size):\n",
    "        if actual[i] == 'g' and predicted[i] == 'g':\n",
    "            TP += 1\n",
    "        elif actual[i] == 'g' and predicted[i] == 'h':\n",
    "            FN += 1\n",
    "        elif actual[i] == 'h' and predicted[i] == 'h':\n",
    "            TN += 1\n",
    "        elif actual[i] == 'h' and predicted[i] == 'g':\n",
    "            FP += 1\n",
    "    print('--- Confusion Matrix ---')\n",
    "    print('TP: ', TP, '\\tFP: ', FP)\n",
    "    print('FN: ', FN, '\\tTN: ', TN)\n",
    "    print('Accuracy = ', accuracy(TP, FP, FN, TN))\n",
    "    p = precision(TP, FP)\n",
    "    print('Precision = ', p)\n",
    "    r = recall(TP, FN)\n",
    "    print('Recall = ', r)\n",
    "    print('F-score = ', f_score(p, r))\n",
    "    "
   ]
  },
  {
   "cell_type": "code",
   "execution_count": 6,
   "id": "43562509",
   "metadata": {},
   "outputs": [],
   "source": [
    "def accuracy(TP, FP, FN, TN):\n",
    "    return (TP + TN) / (TP + FP + FN + TN)"
   ]
  },
  {
   "cell_type": "code",
   "execution_count": 7,
   "id": "3dfc6395",
   "metadata": {},
   "outputs": [],
   "source": [
    "def precision(TP, FP):\n",
    "    return (TP) / (TP + FP)"
   ]
  },
  {
   "cell_type": "code",
   "execution_count": 8,
   "id": "681a0165",
   "metadata": {},
   "outputs": [],
   "source": [
    "def recall(TP, FN):\n",
    "    return (TP) / (TP + FN)"
   ]
  },
  {
   "cell_type": "code",
   "execution_count": 9,
   "id": "e085f820",
   "metadata": {},
   "outputs": [],
   "source": [
    "def f_score(p, r):\n",
    "    return (2 * p * r) / (p + r)"
   ]
  },
  {
   "cell_type": "markdown",
   "id": "ca8e4721",
   "metadata": {},
   "source": [
    "### >> Cross Validation"
   ]
  },
  {
   "cell_type": "code",
   "execution_count": 10,
   "id": "299fded8",
   "metadata": {},
   "outputs": [],
   "source": [
    "def get_max_accuracy(classifier_type, p_min, p_max, step, dataset_data, dataset_class):\n",
    "    max_accuracy = 0\n",
    "    p_max_acc = p_min\n",
    "    for i in range (p_min, p_max + 1, step):\n",
    "        if classifier_type == 'knn':\n",
    "            classifier = neighbors.KNeighborsClassifier(i)\n",
    "        elif classifier_type == 'ada':\n",
    "            classifier = AdaBoostClassifier(n_estimators=i)\n",
    "        elif classifier_type == 'rf':\n",
    "            classifier = RandomForestClassifier(n_estimators=i)\n",
    "        accuracy = cross_validation(classifier, dataset_data, dataset_class)\n",
    "        if max_accuracy < accuracy:\n",
    "            max_accuracy = accuracy\n",
    "            p_max_acc = i\n",
    "#             print('updated>> i= ', i, ', accuracy= ', accuracy)\n",
    "#         else:\n",
    "#             print('Not updated>> i= ', i, ', accuracy= ', accuracy)\n",
    "    return p_max_acc"
   ]
  },
  {
   "cell_type": "code",
   "execution_count": 11,
   "id": "a59f61d7",
   "metadata": {},
   "outputs": [],
   "source": [
    "def cross_validation(classifier, dataset_data, dataset_class):\n",
    "    cv = KFold(n_splits=10, random_state=1, shuffle=True)\n",
    "    scores = cross_val_score(classifier, dataset_data, dataset_class, scoring='accuracy', cv=cv, n_jobs=-1)\n",
    "    return np.mean(scores)"
   ]
  },
  {
   "cell_type": "markdown",
   "id": "2b72dc55",
   "metadata": {},
   "source": [
    "### >> Decision Trees"
   ]
  },
  {
   "cell_type": "code",
   "execution_count": 12,
   "id": "72f7a6a5",
   "metadata": {},
   "outputs": [
    {
     "name": "stdout",
     "output_type": "stream",
     "text": [
      "Decision Tree Classifier\n",
      "--- Confusion Matrix ---\n",
      "TP:  1595 \tFP:  401\n",
      "FN:  411 \tTN:  1605\n",
      "Accuracy =  0.7976071784646062\n",
      "Precision =  0.7990981963927856\n",
      "Recall =  0.7951146560319042\n",
      "F-score =  0.7971014492753623\n"
     ]
    }
   ],
   "source": [
    "dt_classifier = tree.DecisionTreeClassifier()\n",
    "dt_classifier = dt_classifier.fit(training_data, training_class)\n",
    "dt_predicted_class = dt_classifier.predict(testing_data)\n",
    "\n",
    "print('Decision Tree Classifier')\n",
    "conf_matrix_calculations(testing_class, dt_predicted_class)"
   ]
  },
  {
   "cell_type": "markdown",
   "id": "3ab79cfb",
   "metadata": {},
   "source": [
    "### >> Naive Bayes"
   ]
  },
  {
   "cell_type": "code",
   "execution_count": 13,
   "id": "ae85a76c",
   "metadata": {},
   "outputs": [
    {
     "name": "stdout",
     "output_type": "stream",
     "text": [
      "Naive Bayes Classifier\n",
      "--- Confusion Matrix ---\n",
      "TP:  1792 \tFP:  1185\n",
      "FN:  214 \tTN:  821\n",
      "Accuracy =  0.651296111665005\n",
      "Precision =  0.6019482700705409\n",
      "Recall =  0.8933200398803589\n",
      "F-score =  0.7192454344772226\n"
     ]
    }
   ],
   "source": [
    "nb_classifier = GaussianNB()\n",
    "nb_classifier = nb_classifier.fit(training_data, training_class)\n",
    "nb_predicted_class = nb_classifier.predict(testing_data)\n",
    "\n",
    "print('Naive Bayes Classifier')\n",
    "conf_matrix_calculations(testing_class, nb_predicted_class)\n"
   ]
  },
  {
   "cell_type": "markdown",
   "id": "d91416dd",
   "metadata": {},
   "source": [
    "### >> AdaBoost"
   ]
  },
  {
   "cell_type": "code",
   "execution_count": 14,
   "id": "3a0b8397",
   "metadata": {},
   "outputs": [
    {
     "name": "stdout",
     "output_type": "stream",
     "text": [
      "AdaBoost Classifier\n",
      "Cross Validation: 122.63887190818787 seconds\n",
      "Used n-estimators value:  105\n",
      "Classification: 2.7740225791931152 seconds\n",
      "--- Confusion Matrix ---\n",
      "TP:  1675 \tFP:  349\n",
      "FN:  331 \tTN:  1657\n",
      "Accuracy =  0.8305084745762712\n",
      "Precision =  0.8275691699604744\n",
      "Recall =  0.8349950149551346\n",
      "F-score =  0.8312655086848635\n"
     ]
    }
   ],
   "source": [
    "print('AdaBoost Classifier')\n",
    "ada_p_min = 95\n",
    "ada_p_max = 110\n",
    "ada_step = 2\n",
    "start_time = time.time()\n",
    "ada_parameter = get_max_accuracy('ada',ada_p_min, ada_p_max, ada_step, training_data, training_class)\n",
    "print(\"Cross Validation: %s seconds\"  % (time.time() - start_time))\n",
    "print('Used n-estimators value: ', ada_parameter)\n",
    "start_time = time.time()\n",
    "ada_classifier = AdaBoostClassifier(n_estimators=ada_parameter)\n",
    "ada_classifier = ada_classifier.fit(training_data, training_class)\n",
    "ada_predicted_class = ada_classifier.predict(testing_data)\n",
    "print(\"Classification: %s seconds\"  % (time.time() - start_time))\n",
    "\n",
    "conf_matrix_calculations(testing_class, ada_predicted_class)\n"
   ]
  },
  {
   "cell_type": "markdown",
   "id": "4c78de9e",
   "metadata": {},
   "source": [
    "### >> K-Nearest Neighbors (K-NN)"
   ]
  },
  {
   "cell_type": "code",
   "execution_count": 15,
   "id": "bd51d097",
   "metadata": {},
   "outputs": [
    {
     "name": "stdout",
     "output_type": "stream",
     "text": [
      "K-Nearest Neighbors Classifier\n",
      "Cross Validation: 6.01399564743042 seconds\n",
      "Used n-neighbors value:  15\n",
      "Classification: 0.49268293380737305 seconds\n",
      "--- Confusion Matrix ---\n",
      "TP:  1724 \tFP:  645\n",
      "FN:  282 \tTN:  1361\n",
      "Accuracy =  0.7689431704885344\n",
      "Precision =  0.7277332207682566\n",
      "Recall =  0.8594217347956131\n",
      "F-score =  0.7881142857142857\n"
     ]
    }
   ],
   "source": [
    "print('K-Nearest Neighbors Classifier')\n",
    "knn_p_min = 5\n",
    "knn_p_max = 15\n",
    "knn_step = 2\n",
    "start_time = time.time()\n",
    "knn_parameter = get_max_accuracy('knn', knn_p_min, knn_p_max, knn_step, training_data, training_class)\n",
    "print(\"Cross Validation: %s seconds\"  % (time.time() - start_time))\n",
    "print('Used n-neighbors value: ', knn_parameter)\n",
    "start_time = time.time()\n",
    "knn_classifier = neighbors.KNeighborsClassifier(n_neighbors=knn_parameter)\n",
    "knn_classifier = knn_classifier.fit(training_data, training_class)\n",
    "knn_predicted_class = knn_classifier.predict(testing_data)\n",
    "print(\"Classification: %s seconds\"  % (time.time() - start_time))\n",
    "\n",
    "conf_matrix_calculations(testing_class, knn_predicted_class)\n"
   ]
  },
  {
   "cell_type": "markdown",
   "id": "1958f75e",
   "metadata": {},
   "source": [
    "### >> Random Forsets"
   ]
  },
  {
   "cell_type": "code",
   "execution_count": 16,
   "id": "f8723af2",
   "metadata": {},
   "outputs": [
    {
     "name": "stdout",
     "output_type": "stream",
     "text": [
      "Random Forests Classifier\n",
      "Cross Validation: 157.61438131332397 seconds\n",
      "Used n-estimators value:  95\n",
      "Classification: 2.922390937805176 seconds\n",
      "--- Confusion Matrix ---\n",
      "TP:  1770 \tFP:  309\n",
      "FN:  236 \tTN:  1697\n",
      "Accuracy =  0.8641575274177468\n",
      "Precision =  0.8513708513708513\n",
      "Recall =  0.8823529411764706\n",
      "F-score =  0.8665850673194614\n"
     ]
    }
   ],
   "source": [
    "print('Random Forests Classifier')\n",
    "rf_p_min = 50\n",
    "rf_p_max = 100\n",
    "rf_step = 5\n",
    "start_time = time.time()\n",
    "rf_parameter = get_max_accuracy('rf', rf_p_min, rf_p_max, rf_step, training_data, training_class)\n",
    "print(\"Cross Validation: %s seconds\"  % (time.time() - start_time))\n",
    "print('Used n-estimators value: ', rf_parameter)\n",
    "start_time = time.time()\n",
    "rf_classifier = RandomForestClassifier(n_estimators=rf_parameter)\n",
    "rf_classifier = rf_classifier.fit(training_data, training_class)\n",
    "rf_predicted_class = rf_classifier.predict(testing_data)\n",
    "print(\"Classification: %s seconds\"  % (time.time() - start_time))\n",
    "\n",
    "conf_matrix_calculations(testing_class, rf_predicted_class)"
   ]
  }
 ],
 "metadata": {
  "kernelspec": {
   "display_name": "Python 3",
   "language": "python",
   "name": "python3"
  },
  "language_info": {
   "codemirror_mode": {
    "name": "ipython",
    "version": 3
   },
   "file_extension": ".py",
   "mimetype": "text/x-python",
   "name": "python",
   "nbconvert_exporter": "python",
   "pygments_lexer": "ipython3",
   "version": "3.8.8"
  }
 },
 "nbformat": 4,
 "nbformat_minor": 5
}
