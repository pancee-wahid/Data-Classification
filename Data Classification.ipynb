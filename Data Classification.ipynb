{
 "cells": [
  {
   "cell_type": "markdown",
   "id": "7326be15",
   "metadata": {},
   "source": [
    "# Data Classification"
   ]
  },
  {
   "cell_type": "markdown",
   "id": "6352d136",
   "metadata": {},
   "source": [
    "### Imports"
   ]
  },
  {
   "cell_type": "code",
   "execution_count": null,
   "id": "deef5129",
   "metadata": {},
   "outputs": [],
   "source": [
    "# importing libraries\n",
    "import numpy as np\n",
    "import pandas as pd\n",
    "import sklearn as sk\n",
    "from sklearn import metrics, tree, neighbors\n",
    "from sklearn.datasets import make_classification\n",
    "from sklearn.model_selection import KFold, cross_val_score\n",
    "from sklearn.linear_model import LogisticRegression\n",
    "from sklearn.naive_bayes import GaussianNB\n",
    "from sklearn.ensemble import RandomForestClassifier, AdaBoostClassifier"
   ]
  },
  {
   "cell_type": "markdown",
   "id": "9bce6032",
   "metadata": {},
   "source": [
    "### Reading dataset"
   ]
  },
  {
   "cell_type": "code",
   "execution_count": null,
   "id": "57b59529",
   "metadata": {},
   "outputs": [],
   "source": [
    "# read data from file\n",
    "dataset_url = \"https://archive.ics.uci.edu/ml/machine-learning-databases/magic/magic04.data\"\n",
    "headers = ['fLength', 'fWidth', 'fSize', 'fConc', 'fConc1', 'fAsym', 'fM3Long', 'fM3Trans', 'fAlpha', 'fDist', 'Class']\n",
    "dataset = pd.read_csv(dataset_url, sep=',', names=headers)\n",
    "# display(dataset)"
   ]
  },
  {
   "cell_type": "markdown",
   "id": "c7e51da0",
   "metadata": {},
   "source": [
    "### Data Balancing"
   ]
  },
  {
   "cell_type": "code",
   "execution_count": null,
   "id": "700da41d",
   "metadata": {},
   "outputs": [],
   "source": [
    "# Data Balancing\n",
    "h_samples_balanced = dataset[dataset['Class'] == 'h']\n",
    "\n",
    "# select 6688 random samples with class = g\n",
    "g_class_samples = dataset[dataset['Class'] == 'g']\n",
    "g_samples_balanced = g_class_samples.sample(n = 6688)\n",
    "\n",
    "# display(g_samples)\n",
    "# display(h_samples)"
   ]
  },
  {
   "cell_type": "markdown",
   "id": "2356d5b9",
   "metadata": {},
   "source": [
    "### Data Split"
   ]
  },
  {
   "cell_type": "code",
   "execution_count": null,
   "id": "6718763b",
   "metadata": {
    "scrolled": true
   },
   "outputs": [],
   "source": [
    "# Data Split\n",
    "# split the g class samples to 70% and 30% for training & testing respectively \n",
    "g_70_percent = g_samples_balanced.sample(frac = 0.7)\n",
    "g_30_percent = g_samples_balanced.drop(g_70_percent.index)\n",
    "\n",
    "# split the h class samples to 70% and 30% for training & testing respectively \n",
    "h_70_percent = h_samples_balanced.sample(frac = 0.7)\n",
    "h_30_percent = h_samples_balanced.drop(h_70_percent.index)\n",
    "\n",
    "# concatenating the 70% of g-class and h-class to form the training set\n",
    "training_set = pd.concat([g_70_percent, h_70_percent], axis=0, ignore_index=True)\n",
    "\n",
    "# concatenating the 30% of g-class and h-class to form the testing set\n",
    "testing_set = pd.concat([g_30_percent, h_30_percent], axis=0, ignore_index=True)\n",
    "\n",
    "# display(training_set)\n",
    "# display(testing_set)\n",
    "\n",
    "training_data = training_set.iloc[:,:-1]\n",
    "training_class = training_set.iloc[:,-1]\n",
    "# display(training_data)\n",
    "# display(training_class)\n",
    "\n",
    "testing_data = testing_set.iloc[:,:-1]\n",
    "testing_class = testing_set.iloc[:,-1]\n",
    "# display(testing_data)\n",
    "# display(testing_class)"
   ]
  },
  {
   "cell_type": "markdown",
   "id": "1eea69a6",
   "metadata": {},
   "source": [
    "### Classification"
   ]
  },
  {
   "cell_type": "markdown",
   "id": "3cb7106f",
   "metadata": {},
   "source": [
    "#### >> Confusion matrix calculation"
   ]
  },
  {
   "cell_type": "code",
   "execution_count": null,
   "id": "69f7d76d",
   "metadata": {},
   "outputs": [],
   "source": [
    "# 'g' >> positive ,, 'h' >> negative\n",
    "def conf_matrix_calculations(actual, predicted):\n",
    "    TP = TN = FP = FN = 0\n",
    "    training_dataset_size = 4012\n",
    "    for i in range (training_dataset_size):\n",
    "        if actual[i] == 'g' and predicted[i] == 'g':\n",
    "            TP += 1\n",
    "        elif actual[i] == 'g' and predicted[i] == 'h':\n",
    "            FN += 1\n",
    "        elif actual[i] == 'h' and predicted[i] == 'h':\n",
    "            TN += 1\n",
    "        elif actual[i] == 'h' and predicted[i] == 'g':\n",
    "            FP += 1\n",
    "    return TP, FP, TN, FN"
   ]
  },
  {
   "cell_type": "markdown",
   "id": "ca8e4721",
   "metadata": {},
   "source": [
    "#### >> Cross Validation"
   ]
  },
  {
   "cell_type": "code",
   "execution_count": null,
   "id": "299fded8",
   "metadata": {},
   "outputs": [],
   "source": [
    "def get_max_accuracy(classifier_type, p_min, p_max, dataset_data, dataset_class):\n",
    "    max_accuracy = 0\n",
    "    p_max_acc = p_min\n",
    "    for i in range (p_min, p_max + 1):\n",
    "        if classifier_type == 'knn':\n",
    "            classifier = neighbors.KNeighborsClassifier(i)\n",
    "        elif classifier_type == 'ada':\n",
    "            classifier = AdaBoostClassifier(n_estimators=i)\n",
    "        elif classifier_type == 'rf':\n",
    "            classifier = RandomForestClassifier(n_estimators=i)\n",
    "        accuracy = cross_validation(classifier, dataset_data, dataset_class)\n",
    "        if max_accuracy < accuracy:\n",
    "            max_accuracy = accuracy\n",
    "            p_max_acc = i\n",
    "            print('updated>> i= ', i, ', accuracy= ', accuracy)\n",
    "    return p_max_acc"
   ]
  },
  {
   "cell_type": "code",
   "execution_count": null,
   "id": "a59f61d7",
   "metadata": {},
   "outputs": [],
   "source": [
    "def cross_validation(classifier, dataset_data, dataset_class):\n",
    "    cv = KFold(n_splits=10, random_state=1, shuffle=True)\n",
    "    scores = cross_val_score(classifier, dataset_data, dataset_class, scoring='accuracy', cv=cv, n_jobs=-1)\n",
    "    return np.mean(scores)"
   ]
  },
  {
   "cell_type": "markdown",
   "id": "2b72dc55",
   "metadata": {},
   "source": [
    "#### >> Decision Trees"
   ]
  },
  {
   "cell_type": "code",
   "execution_count": null,
   "id": "72f7a6a5",
   "metadata": {},
   "outputs": [],
   "source": [
    "dt_classifier = tree.DecisionTreeClassifier()\n",
    "dt_classifier = dt_classifier.fit(training_data, training_class)\n",
    "dt_predicted_class = dt_classifier.predict(testing_data)\n",
    "\n",
    "# testing_class >> actual ,, dt_predicted_class >> predicted\n",
    "# for confusion matrix\n",
    "dt_TP, dt_FP, dt_TN, dt_FN = conf_matrix_calculations(testing_class, dt_predicted_class)\n",
    "print('Using Decision Tree Classifier:')\n",
    "print('TP:', dt_TP) \n",
    "print('FP:', dt_FP) \n",
    "print('FN:', dt_FN) \n",
    "print('TN:', dt_TN) "
   ]
  },
  {
   "cell_type": "markdown",
   "id": "d91416dd",
   "metadata": {},
   "source": [
    "#### >> AdaBoost"
   ]
  },
  {
   "cell_type": "code",
   "execution_count": null,
   "id": "3a0b8397",
   "metadata": {},
   "outputs": [],
   "source": [
    "ada_parameter = get_max_accuracy('ada', 1, 50, training_data, training_class)\n",
    "ada_classifier = AdaBoostClassifier(n_estimators=ada_parameter)\n",
    "ada_classifier = ada_classifier.fit(training_data, training_class)\n",
    "ada_predicted_class = ada_classifier.predict(testing_data)\n",
    "\n",
    "ada_TP, ada_FP, ada_TN, ada_FN = conf_matrix_calculations(testing_class, ada_predicted_class)\n",
    "print('Using AdaBoost Classifier:')\n",
    "print('TP:', ada_TP)\n",
    "print('FP:', ada_FP)\n",
    "print('FN:', ada_FN)\n",
    "print('TN:', ada_TN)"
   ]
  },
  {
   "cell_type": "markdown",
   "id": "4c78de9e",
   "metadata": {},
   "source": [
    "#### >> K-Nearest Neighbors (K-NN)"
   ]
  },
  {
   "cell_type": "code",
   "execution_count": null,
   "id": "bd51d097",
   "metadata": {},
   "outputs": [],
   "source": [
    "knn_parameter = get_max_accuracy('knn', 1, 13, training_data, training_class)\n",
    "knn_classifier = neighbors.KNeighborsClassifier(n_neighbors=knn_parameter)\n",
    "knn_classifier = knn_classifier.fit(training_data, training_class)\n",
    "knn_predicted_class = knn_classifier.predict(testing_data)\n",
    "\n",
    "knn_TP, knn_FP, knn_TN, knn_FN = conf_matrix_calculations(testing_class, knn_predicted_class)\n",
    "print('Using K-Nearest Neighbors Classifier:')\n",
    "print('TP:', knn_TP) \n",
    "print('FP:', knn_FP) \n",
    "print('FN:', knn_FN) \n",
    "print('TN:', knn_TN) "
   ]
  },
  {
   "cell_type": "markdown",
   "id": "1958f75e",
   "metadata": {},
   "source": [
    "#### >> Random Forsets"
   ]
  },
  {
   "cell_type": "code",
   "execution_count": null,
   "id": "f8723af2",
   "metadata": {},
   "outputs": [],
   "source": [
    "rf_parameter = get_max_accuracy('rf', 1, 30, training_data, training_class)\n",
    "rf_classifier = RandomForestClassifier(n_estimators=rf_parameter)\n",
    "rf_classifier = rf_classifier.fit(training_data, training_class)\n",
    "rf_predicted_class = rf_classifier.predict(testing_data)\n",
    "\n",
    "rf_TP, rf_FP, rf_TN, rf_FN = conf_matrix_calculations(testing_class, rf_predicted_class)\n",
    "print('Using Random Forests Classifier:')\n",
    "print('TP:', rf_TP) \n",
    "print('FP:', rf_FP) \n",
    "print('FN:', rf_FN) \n",
    "print('TN:', rf_TN) "
   ]
  },
  {
   "cell_type": "markdown",
   "id": "3ab79cfb",
   "metadata": {},
   "source": [
    "#### >> Naive Bayes"
   ]
  },
  {
   "cell_type": "code",
   "execution_count": null,
   "id": "ae85a76c",
   "metadata": {},
   "outputs": [],
   "source": [
    "nb_classifier = GaussianNB()\n",
    "nb_classifier = nb_classifier.fit(training_data, training_class)\n",
    "nb_predicted_class = nb_classifier.predict(testing_data)\n",
    "\n",
    "# testing_class >> actual ,, nb_predicted_class >> predicted\n",
    "# for confusion matrix\n",
    "nb_TP, nb_FP, nb_TN, nb_FN = conf_matrix_calculations(testing_class, nb_predicted_class)\n",
    "print('Using Naive Bayes Classifier:')\n",
    "print('TP:', nb_TP) \n",
    "print('FP:', nb_FP) \n",
    "print('FN:', nb_FN) \n",
    "print('TN:', nb_TN) "
   ]
  }
 ],
 "metadata": {
  "kernelspec": {
   "display_name": "Python 3",
   "language": "python",
   "name": "python3"
  },
  "language_info": {
   "codemirror_mode": {
    "name": "ipython",
    "version": 3
   },
   "file_extension": ".py",
   "mimetype": "text/x-python",
   "name": "python",
   "nbconvert_exporter": "python",
   "pygments_lexer": "ipython3",
   "version": "3.8.8"
  }
 },
 "nbformat": 4,
 "nbformat_minor": 5
}
